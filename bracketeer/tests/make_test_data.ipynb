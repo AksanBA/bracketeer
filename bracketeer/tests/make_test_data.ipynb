{
 "cells": [
  {
   "cell_type": "code",
   "execution_count": 1,
   "metadata": {},
   "outputs": [],
   "source": [
    "import numpy as np\n",
    "import pandas as pd\n",
    "\n",
    "from hashlib import sha256"
   ]
  },
  {
   "cell_type": "code",
   "execution_count": 13,
   "metadata": {},
   "outputs": [],
   "source": [
    "datapath = '../input/DataFiles/'\n",
    "files = {\n",
    "    #'season_compact': \"RegularSeasonCompactResults.csv\",\n",
    "    #'tourney_compact': \"NCAATourneyCompactResults.csv\",\n",
    "    #'season_detail': \"RegularSeasonDetailedResults.csv\",\n",
    "    #'tourney_detail': \"NCAATourneyDetailedResults.csv\",\n",
    "    'sample_sub': \"SampleSubmissionStage1.csv\",\n",
    "    'seeds': \"NCAATourneySeeds.csv\",\n",
    "    #'seasons': \"Seasons.csv\",\n",
    "    'slots': \"NCAATourneySlots.csv\",\n",
    "    'teams': \"Teams.csv\",\n",
    "}\n",
    "files = {key: datapath + value for key, value in files.items()}"
   ]
  },
  {
   "cell_type": "code",
   "execution_count": 14,
   "metadata": {},
   "outputs": [],
   "source": [
    "dfs = {key: pd.read_csv(value) for key, value in files.items()}\n",
    "dfs['teams'] = dfs['teams'].drop(['FirstD1Season', 'LastD1Season'], axis=1)"
   ]
  },
  {
   "cell_type": "code",
   "execution_count": 15,
   "metadata": {},
   "outputs": [],
   "source": [
    "\"\"\"\n",
    "teamsPath='../input/DataFiles/Teams.csv',\n",
    "seedsPath='../input/DataFiles/NCAATourneySeeds.csv',\n",
    "slotsPath='../input/DataFiles/NCAATourneySlots.csv',\n",
    "submissionPath='../output/submission_seeddiff_only.csv',\n",
    "year=year,\n",
    "outputPath=f'../output/sub_\n",
    "\"\"\" and None"
   ]
  },
  {
   "cell_type": "code",
   "execution_count": 16,
   "metadata": {},
   "outputs": [
    {
     "name": "stdout",
     "output_type": "stream",
     "text": [
      "sample_sub: Index(['ID', 'Pred'], dtype='object')\n",
      "seeds: Index(['Season', 'Seed', 'TeamID'], dtype='object')\n",
      "slots: Index(['Season', 'Slot', 'StrongSeed', 'WeakSeed'], dtype='object')\n",
      "teams: Index(['TeamID', 'TeamName'], dtype='object')\n"
     ]
    }
   ],
   "source": [
    "for key in dfs.keys():\n",
    "    print(f\"{key}: {dfs[key].columns}\")"
   ]
  },
  {
   "cell_type": "code",
   "execution_count": 23,
   "metadata": {},
   "outputs": [],
   "source": [
    "teams = dfs['teams'].copy().reset_index()\n",
    "teams['index'] = teams['index'] * 314\n",
    "teams['new_id'] = teams['index'].astype(str)# + teams['TeamID'].apply(\n",
    "       # lambda x: sha256(str(x).encode('utf-8')).hexdigest()[:10])\n",
    "\n",
    "teams['new_teamname'] = teams['TeamName'].apply(\n",
    "    lambda x: sha256(str(x).encode('utf-8')).hexdigest()[:10])\n",
    "teamid_map = dict(zip(teams['TeamID'].values, teams['new_id'].values))"
   ]
  },
  {
   "cell_type": "code",
   "execution_count": null,
   "metadata": {},
   "outputs": [],
   "source": []
  },
  {
   "cell_type": "code",
   "execution_count": 24,
   "metadata": {},
   "outputs": [],
   "source": [
    "seeds = dfs['seeds'].copy()\n",
    "seeds['new_teamid'] = seeds['TeamID'].map(teamid_map)\n",
    "seeds['new_seed'] = seeds['Seed'].apply(lambda x: sha256(str(x).encode('utf-8')).hexdigest()[:6])\n",
    "seed_map = dict(zip(seeds['Seed'].values, seeds['new_seed'].values))"
   ]
  },
  {
   "cell_type": "code",
   "execution_count": 25,
   "metadata": {},
   "outputs": [],
   "source": [
    "slots = dfs['slots'].copy()\n",
    "slots['new_slot'] = slots['Slot'].apply(lambda x: sha256(str(x).encode('utf-8')).hexdigest()[:10])\n",
    "slots.loc[slots['Slot']=='R6CH', 'new_slot'] = 'R6CH'\n",
    "\n",
    "slot_map = dict(zip(slots['Slot'].values, slots['new_slot'].values))\n",
    "slot_map.update(seed_map)\n",
    "slot_map.update({\"R6CH\": \"R6CH\"})\n",
    "\n",
    "slots['new_slot'] = slots['Slot'].map(slot_map)\n",
    "slots['new_strongseed'] = slots['StrongSeed'].map(slot_map)\n",
    "slots['new_weakseed'] = slots['WeakSeed'].map(slot_map)"
   ]
  },
  {
   "cell_type": "code",
   "execution_count": 26,
   "metadata": {},
   "outputs": [],
   "source": [
    "sub = dfs['sample_sub'].copy()\n",
    "sub[['season', 'id1', 'id2']] = sub['ID'].str.split('_', expand=True)\n",
    "\n",
    "sub['id1'] = sub['id1'].astype(int).map(teamid_map)\n",
    "sub['id2'] = sub['id2'].astype(int).map(teamid_map)\n",
    "sub['new_id'] = sub['season'] + '_' + sub['id1'] + '_' + sub['id2']\n",
    "\n",
    "sub['id1'] = sub['id1'].apply(lambda x: int('0x' + x, 0))\n",
    "sub['id2'] = sub['id2'].apply(lambda x: int('0x' + x, 0))\n",
    "sub['new_pred'] = sub['id1'] - sub['id2']\n",
    "sub['new_pred'] = sub['new_pred'] - sub['new_pred'].min()\n",
    "sub['new_pred'] = sub['new_pred']/sub['new_pred'].max()"
   ]
  },
  {
   "cell_type": "code",
   "execution_count": null,
   "metadata": {},
   "outputs": [],
   "source": []
  },
  {
   "cell_type": "code",
   "execution_count": 27,
   "metadata": {},
   "outputs": [],
   "source": [
    "teamsout = (\n",
    "    teams[['new_id', 'new_teamname']]\n",
    "    .rename(columns={'new_id': 'TeamID', 'new_teamname': 'TeamName'})\n",
    ")\n",
    "seedsout = (\n",
    "    seeds[['Season', 'new_seed', 'new_teamid']]\n",
    "    .rename(columns={'new_seed': 'Seed', 'new_teamid': 'TeamID'})\n",
    ")\n",
    "slotsout = (\n",
    "    slots[['Season', 'new_slot', 'new_strongseed', 'new_weakseed']]\n",
    "    .rename(columns={'new_slot': 'Slot', 'new_strongseed': 'StrongSeed', 'new_weakseed': 'WeakSeed'})\n",
    ")\n",
    "subout = (\n",
    "    sub[['new_id', 'new_pred']]\n",
    "    .rename(columns={'new_id': 'ID', 'new_pred': 'Pred'})\n",
    ")\n"
   ]
  },
  {
   "cell_type": "code",
   "execution_count": 28,
   "metadata": {},
   "outputs": [],
   "source": [
    "teamsout.to_csv('teams.csv', index=False)\n",
    "seedsout.to_csv('seeds.csv', index=False)\n",
    "slotsout.to_csv('slots.csv', index=False)\n",
    "subout.to_csv('sub.csv', index=False)"
   ]
  },
  {
   "cell_type": "code",
   "execution_count": null,
   "metadata": {},
   "outputs": [],
   "source": []
  }
 ],
 "metadata": {
  "kernelspec": {
   "display_name": "Python 3",
   "language": "python",
   "name": "python3"
  },
  "language_info": {
   "codemirror_mode": {
    "name": "ipython",
    "version": 3
   },
   "file_extension": ".py",
   "mimetype": "text/x-python",
   "name": "python",
   "nbconvert_exporter": "python",
   "pygments_lexer": "ipython3",
   "version": "3.6.0"
  }
 },
 "nbformat": 4,
 "nbformat_minor": 2
}

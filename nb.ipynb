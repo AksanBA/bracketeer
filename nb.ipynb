{
 "cells": [
  {
   "cell_type": "code",
   "execution_count": null,
   "metadata": {
    "collapsed": false
   },
   "outputs": [],
   "source": []
  },
  {
   "cell_type": "code",
   "execution_count": 1,
   "metadata": {
    "collapsed": false
   },
   "outputs": [],
   "source": [
    "#from bracket_builder import bracketeer\n",
    "# directory structure should be /.../datapath/files.csv\n",
    "datapath = \"data/\"\n",
    "submissionPath = \"submit.csv\"\n",
    "outputFilePath = 'output.png'\n",
    "#b = bracketeer(2017, datapath)\n",
    "#b.make_bracket(submissionPath, outputFilePath)"
   ]
  },
  {
   "cell_type": "code",
   "execution_count": 2,
   "metadata": {
    "collapsed": true
   },
   "outputs": [],
   "source": [
    "#import binarytree as bt\n",
    "from binarytree import Node\n",
    "import os\n",
    "import numpy as np\n",
    "import pandas as pd\n",
    "from PIL import Image, ImageDraw\n",
    "import matplotlib.pyplot as plt"
   ]
  },
  {
   "cell_type": "code",
   "execution_count": 3,
   "metadata": {
    "collapsed": false
   },
   "outputs": [],
   "source": [
    "class extNode(Node):\n",
    "    def __init__(self, value, left=None, right=None, parent=None):\n",
    "        Node.__init__(self, value, left=left, right=right)\n",
    "        if parent is not None and isinstance(parent, extNode):\n",
    "             self.__setattr__('parent', parent)\n",
    "        else:\n",
    "             self.__setattr__('parent', None)\n",
    "    def __setattr__(self, name, value):\n",
    "        # Magically set the parent to self when a child is created\n",
    "        if (name in ['left', 'right']\n",
    "                and value is not None\n",
    "                and isinstance(value, extNode)):\n",
    "            value.parent = self\n",
    "        object.__setattr__(self, name, value)\n",
    "\n",
    "\n",
    "def build(values):\n",
    "    nodes = [None if v is None else extNode(v) for v in values]\n",
    "\n",
    "    for index in range(1, len(nodes)):\n",
    "        node = nodes[index]\n",
    "        if node is not None:\n",
    "            parent_index = (index - 1) // 2\n",
    "            parent = nodes[parent_index]\n",
    "            if parent is None:\n",
    "                raise NodeNotFoundError(\n",
    "                    'Parent node missing at index {}'\n",
    "                    .format(parent_index)\n",
    "                )\n",
    "            setattr(parent, 'left' if index % 2 else 'right', node)\n",
    "\n",
    "    return nodes[0] if nodes else None\n"
   ]
  },
  {
   "cell_type": "code",
   "execution_count": 4,
   "metadata": {
    "collapsed": false
   },
   "outputs": [],
   "source": [
    "teams_df = pd.read_csv(os.path.join(datapath, \"Teams.csv\"))\n",
    "seeds_df = pd.read_csv(os.path.join(datapath, \"TourneySeeds.csv\"))\n",
    "submit = pd.read_csv(os.path.join(datapath, submissionPath))"
   ]
  },
  {
   "cell_type": "code",
   "execution_count": 5,
   "metadata": {
    "collapsed": false
   },
   "outputs": [],
   "source": [
    "#teams_df.head()"
   ]
  },
  {
   "cell_type": "code",
   "execution_count": 6,
   "metadata": {
    "collapsed": false
   },
   "outputs": [],
   "source": [
    "#seeds_df.head()"
   ]
  },
  {
   "cell_type": "code",
   "execution_count": 7,
   "metadata": {
    "collapsed": true
   },
   "outputs": [],
   "source": [
    "df = seeds_df.merge(teams_df, left_on='Team', right_on='Team_Id')\n",
    "keepcols = ['Season', 'Seed', 'Team_Id', 'Team_Name']\n",
    "df = df.loc[df['Season'] == 2017, keepcols].reset_index(drop=True)"
   ]
  },
  {
   "cell_type": "code",
   "execution_count": 8,
   "metadata": {
    "collapsed": false
   },
   "outputs": [],
   "source": [
    "# create a binary tree and pipe things in the right place - create with seeds\n",
    "\n",
    "# final four\n",
    "#df[df['Team_Name'].isin(['Gonzaga', 'South Carolina', 'Oregon', 'North Carolina'])]"
   ]
  },
  {
   "cell_type": "code",
   "execution_count": 9,
   "metadata": {
    "collapsed": false
   },
   "outputs": [],
   "source": [
    "seedlist = list(reversed([\n",
    "    'W01', 'W16', 'W08', 'W09',\n",
    "    'W05', 'W12', 'W04', 'W13',\n",
    "    'W06', 'W11', 'W03', 'W14',\n",
    "    'W07', 'W10', 'W02', 'W15',\n",
    "    'X01', 'X16', 'X08', 'X09',\n",
    "    'X05', 'X12', 'X04', 'X13',\n",
    "    'X06', 'X11', 'X03', 'X14',\n",
    "    'X07', 'X10', 'X02', 'X15',\n",
    "    'Y01', 'Y16', 'Y08', 'Y09',\n",
    "    'Y05', 'Y12', 'Y04', 'Y13',\n",
    "    'Y06', 'Y11', 'Y03', 'Y14',\n",
    "    'Y07', 'Y10', 'Y02', 'Y15',\n",
    "    'Z01', 'Z16', 'Z08', 'Z09',\n",
    "    'Z05', 'Z12', 'Z04', 'Z13',\n",
    "    'Z06', 'Z11', 'Z03', 'Z14',\n",
    "    'Z07', 'Z10', 'Z02', 'Z15',\n",
    "]))"
   ]
  },
  {
   "cell_type": "code",
   "execution_count": 10,
   "metadata": {
    "collapsed": false
   },
   "outputs": [],
   "source": [
    "#btree = build(range(135, 8, -1))\n",
    "bracket_dict = dict(zip(range(135,8,-1),  list(range(63))+ seedlist))\n",
    "bkt = build(bracket_dict.keys())"
   ]
  },
  {
   "cell_type": "code",
   "execution_count": 11,
   "metadata": {
    "collapsed": false
   },
   "outputs": [],
   "source": [
    "#bracket_dict"
   ]
  },
  {
   "cell_type": "code",
   "execution_count": 12,
   "metadata": {
    "collapsed": false
   },
   "outputs": [],
   "source": [
    "#bkt[135-58]"
   ]
  },
  {
   "cell_type": "code",
   "execution_count": 13,
   "metadata": {
    "collapsed": true
   },
   "outputs": [],
   "source": [
    "bracket_dict[1] = 'W11a'\n",
    "bracket_dict[2] = 'W11b'\n",
    "bracket_dict[3] = 'W16a'\n",
    "bracket_dict[4] = 'W16b'\n",
    "bracket_dict[5] = 'Y16a'\n",
    "bracket_dict[6] = 'Y16b'\n",
    "bracket_dict[7] = 'Z11a'\n",
    "bracket_dict[8] = 'Z11b'\n",
    "\n",
    "\n",
    "# need to double check these numbers maybe\n",
    "bkt[135-18].left = extNode(1)\n",
    "bkt[135-18].right = extNode(2)\n",
    "bkt[135-10].left = extNode(3)\n",
    "bkt[135-10].right = extNode(4)\n",
    "bkt[135-42].left = extNode(5)\n",
    "bkt[135-42].right = extNode(6)\n",
    "bkt[135-66].left = extNode(7)\n",
    "bkt[135-66].right = extNode(8)\n",
    "\n",
    "\n",
    "\n",
    "# W11   18\n",
    "# W16   10\n",
    "# Y16   42\n",
    "# Z11   66"
   ]
  },
  {
   "cell_type": "code",
   "execution_count": 14,
   "metadata": {
    "collapsed": true
   },
   "outputs": [],
   "source": [
    "with open(\"temp.txt\", 'w') as f:\n",
    "    f.write(str(bkt))"
   ]
  },
  {
   "cell_type": "code",
   "execution_count": null,
   "metadata": {
    "collapsed": false
   },
   "outputs": [],
   "source": []
  },
  {
   "cell_type": "code",
   "execution_count": 15,
   "metadata": {
    "collapsed": false
   },
   "outputs": [],
   "source": [
    "def get_team_id(seedMap):\n",
    "    return (seedMap, df[df['Seed'] == bracket_dict[seedMap]]['Team_Id'].values[0])"
   ]
  },
  {
   "cell_type": "code",
   "execution_count": 16,
   "metadata": {
    "collapsed": false
   },
   "outputs": [],
   "source": [
    "levels = list(reversed(bkt.levels))\n",
    "for level in levels:\n",
    "    #print(level)\n",
    "    for ix, node in enumerate(level[0:len(level)//2]):\n",
    "        t1 = get_team_id(level[ix*2].value)\n",
    "        t2 = get_team_id(level[ix*2+1].value)\n",
    "        if t2[1] < t1[1]:\n",
    "            temp = t1\n",
    "            t1 = t2\n",
    "            t2 = temp\n",
    "        gid = '2017_'+str(t1[1])+'_'+str(t2[1])\n",
    "        if submit[submit['Id']==gid]['Pred'].values[0] >= 0.5:\n",
    "            level[ix*2].parent.value = t1[0]\n",
    "        else: \n",
    "            level[ix*2].parent.value = t2[0]\n",
    "        #print(level[ix*2].parent.value)"
   ]
  },
  {
   "cell_type": "code",
   "execution_count": null,
   "metadata": {
    "collapsed": false
   },
   "outputs": [],
   "source": []
  },
  {
   "cell_type": "code",
   "execution_count": 17,
   "metadata": {
    "collapsed": false
   },
   "outputs": [],
   "source": [
    "#need to fix this"
   ]
  },
  {
   "cell_type": "code",
   "execution_count": 18,
   "metadata": {
    "collapsed": false
   },
   "outputs": [],
   "source": [
    "from matchup_locs.ml2017 import matchup_locs\n",
    "slotdata = []\n",
    "for ix, key in enumerate([b for a in bkt.levels for b in a]):\n",
    "#bracket_dict:\n",
    "    xy = matchup_locs[135-ix]\n",
    "    try:\n",
    "        st = (\n",
    "            str(bracket_dict[key.value]) \n",
    "            + ' ' \n",
    "            + str(df[df['Seed']==bracket_dict[key.value]]['Team_Name'].values[0])\n",
    "        )\n",
    "    except IndexError as e:\n",
    "        st = str(bracket_dict[key.value])\n",
    "    slotdata.append((xy, st))\n",
    "#slotdata"
   ]
  },
  {
   "cell_type": "code",
   "execution_count": 19,
   "metadata": {
    "collapsed": false
   },
   "outputs": [],
   "source": [
    "# Create bracket image\n",
    "# relevant:\n",
    "# https://stackoverflow.com/questions/26649716/how-to-show-pil-image-in-ipython-notebook\n",
    "emptyBracketPath = 'empty_brackets/2017.jpg'\n",
    "img = Image.open(emptyBracketPath)\n",
    "draw = ImageDraw.Draw(img)\n",
    "# font = ImageFont.truetype(<font-file>, <font-size>)\n",
    "# draw.text((x, y),\"Sample Text\",(r,g,b))\n",
    "for slot in slotdata:\n",
    "    draw.text(slot[0], str(slot[1]), (0, 0, 0))\n",
    "\n",
    "dpi = 72\n",
    "margin = 0.05  # (5% of the width/height of the figure...)\n",
    "xpixels, ypixels = 940, 700\n",
    "\n",
    "# Make a figure big enough to accomodate an axis of xpixels by ypixels\n",
    "# as well as the ticklabels, etc...\n",
    "figsize = (1 + margin) * ypixels / dpi, (1 + margin) * xpixels / dpi\n",
    "fig = plt.figure(figsize=figsize, dpi=dpi)\n",
    "# Make the axis the right size...\n",
    "ax = fig.add_axes([margin, margin, 1 - 2*margin, 1 - 2*margin])\n",
    "\n",
    "ax.imshow(np.asarray(img))\n",
    "# plt.show() # for in notebook\n",
    "img.save(outputFilePath)"
   ]
  },
  {
   "cell_type": "code",
   "execution_count": null,
   "metadata": {
    "collapsed": false
   },
   "outputs": [],
   "source": []
  },
  {
   "cell_type": "code",
   "execution_count": null,
   "metadata": {
    "collapsed": false
   },
   "outputs": [],
   "source": []
  },
  {
   "cell_type": "code",
   "execution_count": null,
   "metadata": {
    "collapsed": true
   },
   "outputs": [],
   "source": []
  },
  {
   "cell_type": "code",
   "execution_count": null,
   "metadata": {
    "collapsed": true
   },
   "outputs": [],
   "source": []
  },
  {
   "cell_type": "code",
   "execution_count": null,
   "metadata": {
    "collapsed": true
   },
   "outputs": [],
   "source": []
  }
 ],
 "metadata": {
  "kernelspec": {
   "display_name": "Python 3",
   "language": "python",
   "name": "python3"
  },
  "language_info": {
   "codemirror_mode": {
    "name": "ipython",
    "version": 3
   },
   "file_extension": ".py",
   "mimetype": "text/x-python",
   "name": "python",
   "nbconvert_exporter": "python",
   "pygments_lexer": "ipython3",
   "version": "3.6.0"
  }
 },
 "nbformat": 4,
 "nbformat_minor": 2
}

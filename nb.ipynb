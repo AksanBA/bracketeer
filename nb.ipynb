{
 "cells": [
  {
   "cell_type": "code",
   "execution_count": 1,
   "metadata": {},
   "outputs": [
    {
     "name": "stdout",
     "output_type": "stream",
     "text": [
      "H:\\pybin\\packages\\bracketeer\n"
     ]
    }
   ],
   "source": [
    "%cd ..\\packages\\bracketeer"
   ]
  },
  {
   "cell_type": "code",
   "execution_count": 38,
   "metadata": {},
   "outputs": [],
   "source": [
    "from bracket_builder import bracketeer\n",
    "# directory structure should be /.../datapath/files.csv\n",
    "datapath = r'data/'\n",
    "submissionPath = 'submit.csv'\n",
    "outputFilePath = 'output.png'\n",
    "b = bracketeer(2017, datapath)\n",
    "b.make_bracket(submissionPath, outputFilePath)"
   ]
  },
  {
   "cell_type": "code",
   "execution_count": 56,
   "metadata": {},
   "outputs": [],
   "source": [
    "import binarytree as bt\n",
    "from binarytree import Node\n",
    "import os\n",
    "import pandas as pd\n",
    "from PIL import Image, ImageDraw\n",
    "import matplotlib.pyplot as plt"
   ]
  },
  {
   "cell_type": "code",
   "execution_count": 4,
   "metadata": {
    "collapsed": true
   },
   "outputs": [],
   "source": [
    "bracket = bt.build(range(24))"
   ]
  },
  {
   "cell_type": "code",
   "execution_count": 5,
   "metadata": {},
   "outputs": [
    {
     "name": "stdout",
     "output_type": "stream",
     "text": [
      "\n",
      "                    ___________________0___________\n",
      "                   /                               \\\n",
      "          ________1________                      ___2___\n",
      "         /                 \\                    /       \\\n",
      "     ___3___             ___4___              _5        _6\n",
      "    /       \\           /       \\            /  \\      /  \\\n",
      "  _7        _8        _9        _10        _11   12   13   14\n",
      " /  \\      /  \\      /  \\      /   \\      /\n",
      "15   16   17   18   19   20   21    22   23\n",
      "\n"
     ]
    }
   ],
   "source": [
    "print bracket"
   ]
  },
  {
   "cell_type": "code",
   "execution_count": 6,
   "metadata": {
    "collapsed": true
   },
   "outputs": [],
   "source": [
    "teams_df = pd.read_csv(os.path.join(datapath, 'Teams.csv'))\n",
    "seeds_df = pd.read_csv(os.path.join(datapath, 'TourneySeeds.csv'))\n"
   ]
  },
  {
   "cell_type": "code",
   "execution_count": 7,
   "metadata": {},
   "outputs": [
    {
     "data": {
      "text/html": [
       "<div>\n",
       "<style>\n",
       "    .dataframe thead tr:only-child th {\n",
       "        text-align: right;\n",
       "    }\n",
       "\n",
       "    .dataframe thead th {\n",
       "        text-align: left;\n",
       "    }\n",
       "\n",
       "    .dataframe tbody tr th {\n",
       "        vertical-align: top;\n",
       "    }\n",
       "</style>\n",
       "<table border=\"1\" class=\"dataframe\">\n",
       "  <thead>\n",
       "    <tr style=\"text-align: right;\">\n",
       "      <th></th>\n",
       "      <th>Team_Id</th>\n",
       "      <th>Team_Name</th>\n",
       "    </tr>\n",
       "  </thead>\n",
       "  <tbody>\n",
       "    <tr>\n",
       "      <th>0</th>\n",
       "      <td>1101</td>\n",
       "      <td>Abilene Chr</td>\n",
       "    </tr>\n",
       "    <tr>\n",
       "      <th>1</th>\n",
       "      <td>1102</td>\n",
       "      <td>Air Force</td>\n",
       "    </tr>\n",
       "    <tr>\n",
       "      <th>2</th>\n",
       "      <td>1103</td>\n",
       "      <td>Akron</td>\n",
       "    </tr>\n",
       "    <tr>\n",
       "      <th>3</th>\n",
       "      <td>1104</td>\n",
       "      <td>Alabama</td>\n",
       "    </tr>\n",
       "    <tr>\n",
       "      <th>4</th>\n",
       "      <td>1105</td>\n",
       "      <td>Alabama A&amp;M</td>\n",
       "    </tr>\n",
       "  </tbody>\n",
       "</table>\n",
       "</div>"
      ],
      "text/plain": [
       "   Team_Id    Team_Name\n",
       "0     1101  Abilene Chr\n",
       "1     1102    Air Force\n",
       "2     1103        Akron\n",
       "3     1104      Alabama\n",
       "4     1105  Alabama A&M"
      ]
     },
     "execution_count": 7,
     "metadata": {},
     "output_type": "execute_result"
    }
   ],
   "source": [
    "teams_df.head()"
   ]
  },
  {
   "cell_type": "code",
   "execution_count": 8,
   "metadata": {},
   "outputs": [
    {
     "data": {
      "text/html": [
       "<div>\n",
       "<style>\n",
       "    .dataframe thead tr:only-child th {\n",
       "        text-align: right;\n",
       "    }\n",
       "\n",
       "    .dataframe thead th {\n",
       "        text-align: left;\n",
       "    }\n",
       "\n",
       "    .dataframe tbody tr th {\n",
       "        vertical-align: top;\n",
       "    }\n",
       "</style>\n",
       "<table border=\"1\" class=\"dataframe\">\n",
       "  <thead>\n",
       "    <tr style=\"text-align: right;\">\n",
       "      <th></th>\n",
       "      <th>Season</th>\n",
       "      <th>Seed</th>\n",
       "      <th>Team</th>\n",
       "    </tr>\n",
       "  </thead>\n",
       "  <tbody>\n",
       "    <tr>\n",
       "      <th>0</th>\n",
       "      <td>1985</td>\n",
       "      <td>W01</td>\n",
       "      <td>1207</td>\n",
       "    </tr>\n",
       "    <tr>\n",
       "      <th>1</th>\n",
       "      <td>1985</td>\n",
       "      <td>W02</td>\n",
       "      <td>1210</td>\n",
       "    </tr>\n",
       "    <tr>\n",
       "      <th>2</th>\n",
       "      <td>1985</td>\n",
       "      <td>W03</td>\n",
       "      <td>1228</td>\n",
       "    </tr>\n",
       "    <tr>\n",
       "      <th>3</th>\n",
       "      <td>1985</td>\n",
       "      <td>W04</td>\n",
       "      <td>1260</td>\n",
       "    </tr>\n",
       "    <tr>\n",
       "      <th>4</th>\n",
       "      <td>1985</td>\n",
       "      <td>W05</td>\n",
       "      <td>1374</td>\n",
       "    </tr>\n",
       "  </tbody>\n",
       "</table>\n",
       "</div>"
      ],
      "text/plain": [
       "   Season Seed  Team\n",
       "0    1985  W01  1207\n",
       "1    1985  W02  1210\n",
       "2    1985  W03  1228\n",
       "3    1985  W04  1260\n",
       "4    1985  W05  1374"
      ]
     },
     "execution_count": 8,
     "metadata": {},
     "output_type": "execute_result"
    }
   ],
   "source": [
    "seeds_df.head()"
   ]
  },
  {
   "cell_type": "code",
   "execution_count": 10,
   "metadata": {
    "collapsed": true
   },
   "outputs": [],
   "source": [
    "df = seeds_df.merge(teams_df, left_on='Team', right_on='Team_Id')\n",
    "df = df.loc[df['Season'] == 2017, ['Season', 'Seed', 'Team_Id', 'Team_Name']].reset_index(drop=True)"
   ]
  },
  {
   "cell_type": "code",
   "execution_count": 11,
   "metadata": {},
   "outputs": [
    {
     "data": {
      "text/html": [
       "<div>\n",
       "<style>\n",
       "    .dataframe thead tr:only-child th {\n",
       "        text-align: right;\n",
       "    }\n",
       "\n",
       "    .dataframe thead th {\n",
       "        text-align: left;\n",
       "    }\n",
       "\n",
       "    .dataframe tbody tr th {\n",
       "        vertical-align: top;\n",
       "    }\n",
       "</style>\n",
       "<table border=\"1\" class=\"dataframe\">\n",
       "  <thead>\n",
       "    <tr style=\"text-align: right;\">\n",
       "      <th></th>\n",
       "      <th>Season</th>\n",
       "      <th>Seed</th>\n",
       "      <th>Team_Id</th>\n",
       "      <th>Team_Name</th>\n",
       "    </tr>\n",
       "  </thead>\n",
       "  <tbody>\n",
       "    <tr>\n",
       "      <th>14</th>\n",
       "      <td>2017</td>\n",
       "      <td>Z01</td>\n",
       "      <td>1314</td>\n",
       "      <td>North Carolina</td>\n",
       "    </tr>\n",
       "    <tr>\n",
       "      <th>38</th>\n",
       "      <td>2017</td>\n",
       "      <td>W07</td>\n",
       "      <td>1376</td>\n",
       "      <td>South Carolina</td>\n",
       "    </tr>\n",
       "    <tr>\n",
       "      <th>50</th>\n",
       "      <td>2017</td>\n",
       "      <td>Y03</td>\n",
       "      <td>1332</td>\n",
       "      <td>Oregon</td>\n",
       "    </tr>\n",
       "    <tr>\n",
       "      <th>51</th>\n",
       "      <td>2017</td>\n",
       "      <td>X01</td>\n",
       "      <td>1211</td>\n",
       "      <td>Gonzaga</td>\n",
       "    </tr>\n",
       "  </tbody>\n",
       "</table>\n",
       "</div>"
      ],
      "text/plain": [
       "    Season Seed  Team_Id       Team_Name\n",
       "14    2017  Z01     1314  North Carolina\n",
       "38    2017  W07     1376  South Carolina\n",
       "50    2017  Y03     1332          Oregon\n",
       "51    2017  X01     1211         Gonzaga"
      ]
     },
     "execution_count": 11,
     "metadata": {},
     "output_type": "execute_result"
    }
   ],
   "source": [
    "# create a binary tree and pipe things in the right place - create with seeds\n",
    "\n",
    "\n",
    "df[df['Team_Name'].isin(['Gonzaga', 'South Carolina', 'Oregon', 'North Carolina'])]"
   ]
  },
  {
   "cell_type": "code",
   "execution_count": 12,
   "metadata": {
    "collapsed": true
   },
   "outputs": [],
   "source": [
    "import itertools\n",
    "\n",
    "seedlist = [a+b for a,b in list(itertools.product(list('WXYZ'), [str(n).zfill(2) for n in range(1,17)]))]"
   ]
  },
  {
   "cell_type": "code",
   "execution_count": 14,
   "metadata": {},
   "outputs": [],
   "source": [
    "#seedlist\n",
    "btree = bt.build(range(127))\n",
    "#+ seedlist)\n",
    "#print btree\n",
    "bracket_dict = dict(zip(range(127), range(63) + seedlist))"
   ]
  },
  {
   "cell_type": "code",
   "execution_count": 26,
   "metadata": {},
   "outputs": [],
   "source": [
    "bkt = bt.build(bracket_dict.keys())"
   ]
  },
  {
   "cell_type": "code",
   "execution_count": 43,
   "metadata": {},
   "outputs": [],
   "source": [
    "bracket_dict[127] = 'W11a'\n",
    "bracket_dict[128] = 'W11b'\n",
    "bracket_dict[129] = 'W16a'\n",
    "bracket_dict[130] = 'W16b'\n",
    "bracket_dict[131] = 'Y11a'\n",
    "bracket_dict[132] = 'Y11b'\n",
    "bracket_dict[133] = 'Z16a'\n",
    "bracket_dict[134] = 'Z16b'\n",
    "\n",
    "bkt[73].left = Node(127)\n",
    "bkt[73].right = Node(128)\n",
    "bkt[78].left = Node(129)\n",
    "bkt[78].right = Node(130)\n",
    "bkt[105].left = Node(131)\n",
    "bkt[105].right = Node(132)\n",
    "bkt[126].left = Node(133)\n",
    "bkt[126].right = Node(134)\n",
    "\n",
    "\n",
    "\n",
    "# W11   73\n",
    "# W16   78 \n",
    "# Y11   105\n",
    "# Z16   126\n"
   ]
  },
  {
   "cell_type": "code",
   "execution_count": 50,
   "metadata": {},
   "outputs": [],
   "source": [
    "with open(\"temp.txt\", 'w') as f:\n",
    "    f.write(str(bkt))"
   ]
  },
  {
   "cell_type": "code",
   "execution_count": 53,
   "metadata": {},
   "outputs": [
    {
     "name": "stdout",
     "output_type": "stream",
     "text": [
      "{1: (372, 32), 2: (372, 50), 3: (30, 328), 4: (30, 346), 5: (695, 325), 6: (695, 343), 7: (370, 642), 8: (370, 659), 9: (30, 38), 10: (30, 55), 11: (30, 74), 12: (30, 92), 13: (30, 110), 14: (30, 128), 15: (30, 146), 16: (30, 164), 17: (30, 182), 18: (30, 199), 19: (30, 218), 20: (30, 236), 21: (30, 254), 22: (30, 272), 23: (30, 290), 24: (30, 308), 25: (30, 370), 26: (30, 388), 27: (30, 406), 28: (30, 424), 29: (30, 442), 30: (30, 460), 31: (30, 478), 32: (30, 496), 33: (30, 514), 34: (30, 532), 35: (30, 550), 36: (30, 567), 37: (30, 586), 38: (30, 604), 39: (30, 622), 40: (30, 640), 41: (815, 38), 42: (815, 55), 43: (815, 74), 44: (815, 92), 45: (815, 110), 46: (815, 128), 47: (815, 146), 48: (815, 164), 49: (815, 182), 50: (815, 199), 51: (815, 218), 52: (815, 236), 53: (815, 254), 54: (815, 272), 55: (815, 290), 56: (815, 308), 57: (815, 370), 58: (815, 388), 59: (815, 406), 60: (815, 424), 61: (815, 442), 62: (815, 460), 63: (815, 478), 64: (815, 496), 65: (815, 514), 66: (815, 532), 67: (815, 550), 68: (815, 567), 69: (815, 586), 70: (815, 604), 71: (815, 622), 72: (815, 640), 73: (155, 47), 74: (155, 83), 75: (155, 119), 76: (155, 155), 77: (155, 191), 78: (155, 227), 79: (155, 263), 80: (155, 299), 81: (155, 379), 82: (155, 415), 83: (155, 451), 84: (155, 487), 85: (155, 523), 86: (155, 559), 87: (155, 595), 88: (155, 631), 89: (735, 47), 90: (735, 83), 91: (735, 119), 92: (735, 155), 93: (735, 191), 94: (735, 227), 95: (735, 263), 96: (735, 299), 97: (735, 379), 98: (735, 415), 99: (735, 451), 100: (735, 487), 101: (735, 523), 102: (735, 559), 103: (735, 595), 104: (735, 631), 105: (232, 65), 106: (232, 137), 107: (232, 209), 108: (232, 281), 109: (232, 397), 110: (232, 469), 111: (232, 541), 112: (232, 613), 113: (668, 65), 114: (668, 137), 115: (668, 209), 116: (668, 281), 117: (668, 397), 118: (668, 469), 119: (668, 541), 120: (668, 613), 121: (298, 100), 122: (298, 244), 123: (298, 432), 124: (298, 576), 125: (601, 100), 126: (601, 244), 127: (601, 432), 128: (601, 576), 129: (358, 172), 130: (358, 504), 131: (540, 172), 132: (540, 504), 133: (420, 457), 134: (435, 219), 135: (435, 339)}\n"
     ]
    }
   ],
   "source": [
    "from matchup_locs.ml2017 import matchup_locs\n",
    "print(matchup_locs)"
   ]
  },
  {
   "cell_type": "code",
   "execution_count": 64,
   "metadata": {},
   "outputs": [],
   "source": [
    "slotdata = zip(matchup_locs.values(), bracket_dict.values())"
   ]
  },
  {
   "cell_type": "code",
   "execution_count": 68,
   "metadata": {},
   "outputs": [
    {
     "ename": "TypeError",
     "evalue": "argument of type 'int' is not iterable",
     "output_type": "error",
     "traceback": [
      "\u001b[1;31m---------------------------------------------------------------------------\u001b[0m",
      "\u001b[1;31mTypeError\u001b[0m                                 Traceback (most recent call last)",
      "\u001b[1;32m<ipython-input-68-0e91bf305114>\u001b[0m in \u001b[0;36m<module>\u001b[1;34m()\u001b[0m\n\u001b[0;32m      8\u001b[0m \u001b[1;31m# draw.text((x, y),\"Sample Text\",(r,g,b))\u001b[0m\u001b[1;33m\u001b[0m\u001b[1;33m\u001b[0m\u001b[0m\n\u001b[0;32m      9\u001b[0m \u001b[1;32mfor\u001b[0m \u001b[0mslot0\u001b[0m\u001b[1;33m,\u001b[0m \u001b[0mslot1\u001b[0m \u001b[1;32min\u001b[0m \u001b[0mslotdata\u001b[0m\u001b[1;33m:\u001b[0m\u001b[1;33m\u001b[0m\u001b[0m\n\u001b[1;32m---> 10\u001b[1;33m     \u001b[0mdraw\u001b[0m\u001b[1;33m.\u001b[0m\u001b[0mtext\u001b[0m\u001b[1;33m(\u001b[0m\u001b[0mslot0\u001b[0m\u001b[1;33m,\u001b[0m \u001b[0mslot1\u001b[0m\u001b[1;33m,\u001b[0m \u001b[1;33m(\u001b[0m\u001b[1;36m0\u001b[0m\u001b[1;33m,\u001b[0m \u001b[1;36m0\u001b[0m\u001b[1;33m,\u001b[0m \u001b[1;36m0\u001b[0m\u001b[1;33m)\u001b[0m\u001b[1;33m)\u001b[0m\u001b[1;33m\u001b[0m\u001b[0m\n\u001b[0m\u001b[0;32m     11\u001b[0m \u001b[1;33m\u001b[0m\u001b[0m\n\u001b[0;32m     12\u001b[0m \u001b[0mdpi\u001b[0m \u001b[1;33m=\u001b[0m \u001b[1;36m72\u001b[0m\u001b[1;33m\u001b[0m\u001b[0m\n",
      "\u001b[1;32mC:\\FAST\\anaconda\\python27\\win64\\431\\lib\\site-packages\\PIL\\ImageDraw.pyc\u001b[0m in \u001b[0;36mtext\u001b[1;34m(self, xy, text, fill, font, anchor, *args, **kwargs)\u001b[0m\n\u001b[0;32m    208\u001b[0m     def text(self, xy, text, fill=None, font=None, anchor=None,\n\u001b[0;32m    209\u001b[0m              *args, **kwargs):\n\u001b[1;32m--> 210\u001b[1;33m         \u001b[1;32mif\u001b[0m \u001b[0mself\u001b[0m\u001b[1;33m.\u001b[0m\u001b[0m_multiline_check\u001b[0m\u001b[1;33m(\u001b[0m\u001b[0mtext\u001b[0m\u001b[1;33m)\u001b[0m\u001b[1;33m:\u001b[0m\u001b[1;33m\u001b[0m\u001b[0m\n\u001b[0m\u001b[0;32m    211\u001b[0m             return self.multiline_text(xy, text, fill, font, anchor,\n\u001b[0;32m    212\u001b[0m                                        *args, **kwargs)\n",
      "\u001b[1;32mC:\\FAST\\anaconda\\python27\\win64\\431\\lib\\site-packages\\PIL\\ImageDraw.pyc\u001b[0m in \u001b[0;36m_multiline_check\u001b[1;34m(self, text)\u001b[0m\n\u001b[0;32m    199\u001b[0m         \u001b[0msplit_character\u001b[0m \u001b[1;33m=\u001b[0m \u001b[1;34m\"\\n\"\u001b[0m \u001b[1;32mif\u001b[0m \u001b[0misinstance\u001b[0m\u001b[1;33m(\u001b[0m\u001b[0mtext\u001b[0m\u001b[1;33m,\u001b[0m \u001b[0mstr\u001b[0m\u001b[1;33m)\u001b[0m \u001b[1;32melse\u001b[0m \u001b[1;34mb\"\\n\"\u001b[0m\u001b[1;33m\u001b[0m\u001b[0m\n\u001b[0;32m    200\u001b[0m \u001b[1;33m\u001b[0m\u001b[0m\n\u001b[1;32m--> 201\u001b[1;33m         \u001b[1;32mreturn\u001b[0m \u001b[0msplit_character\u001b[0m \u001b[1;32min\u001b[0m \u001b[0mtext\u001b[0m\u001b[1;33m\u001b[0m\u001b[0m\n\u001b[0m\u001b[0;32m    202\u001b[0m \u001b[1;33m\u001b[0m\u001b[0m\n\u001b[0;32m    203\u001b[0m     \u001b[1;32mdef\u001b[0m \u001b[0m_multiline_split\u001b[0m\u001b[1;33m(\u001b[0m\u001b[0mself\u001b[0m\u001b[1;33m,\u001b[0m \u001b[0mtext\u001b[0m\u001b[1;33m)\u001b[0m\u001b[1;33m:\u001b[0m\u001b[1;33m\u001b[0m\u001b[0m\n",
      "\u001b[1;31mTypeError\u001b[0m: argument of type 'int' is not iterable"
     ]
    }
   ],
   "source": [
    "# Create bracket image\n",
    "# relevant:\n",
    "# https://stackoverflow.com/questions/26649716/how-to-show-pil-image-in-ipython-notebook\n",
    "emptyBracketPath = 'empty_brackets/2017.jpg'\n",
    "img = Image.open(emptyBracketPath)\n",
    "draw = ImageDraw.Draw(img)\n",
    "# font = ImageFont.truetype(<font-file>, <font-size>)\n",
    "# draw.text((x, y),\"Sample Text\",(r,g,b))\n",
    "for slot0, slot1 in slotdata:\n",
    "    draw.text(slot0, slot1, (0, 0, 0))\n",
    "\n",
    "dpi = 72\n",
    "margin = 0.05  # (5% of the width/height of the figure...)\n",
    "xpixels, ypixels = 940, 700\n",
    "\n",
    "# Make a figure big enough to accomodate an axis of xpixels by ypixels\n",
    "# as well as the ticklabels, etc...\n",
    "figsize = (1 + margin) * ypixels / dpi, (1 + margin) * xpixels / dpi\n",
    "fig = plt.figure(figsize=figsize, dpi=dpi)\n",
    "# Make the axis the right size...\n",
    "ax = fig.add_axes([margin, margin, 1 - 2*margin, 1 - 2*margin])\n",
    "\n",
    "ax.imshow(np.asarray(img))\n",
    "# plt.show() # for in notebook\n",
    "img.save(outputFilePath)"
   ]
  },
  {
   "cell_type": "code",
   "execution_count": 69,
   "metadata": {},
   "outputs": [
    {
     "data": {
      "text/plain": [
       "[((372, 32), 0),\n",
       " ((372, 50), 1),\n",
       " ((30, 328), 2),\n",
       " ((30, 346), 3),\n",
       " ((695, 325), 4),\n",
       " ((695, 343), 5),\n",
       " ((370, 642), 6),\n",
       " ((370, 659), 7),\n",
       " ((30, 38), 8),\n",
       " ((30, 55), 9),\n",
       " ((30, 74), 10),\n",
       " ((30, 92), 11),\n",
       " ((30, 110), 12),\n",
       " ((30, 128), 13),\n",
       " ((30, 146), 14),\n",
       " ((30, 164), 15),\n",
       " ((30, 182), 16),\n",
       " ((30, 199), 17),\n",
       " ((30, 218), 18),\n",
       " ((30, 236), 19),\n",
       " ((30, 254), 20),\n",
       " ((30, 272), 21),\n",
       " ((30, 290), 22),\n",
       " ((30, 308), 23),\n",
       " ((30, 370), 24),\n",
       " ((30, 388), 25),\n",
       " ((30, 406), 26),\n",
       " ((30, 424), 27),\n",
       " ((30, 442), 28),\n",
       " ((30, 460), 29),\n",
       " ((30, 478), 30),\n",
       " ((30, 496), 31),\n",
       " ((30, 514), 32),\n",
       " ((30, 532), 33),\n",
       " ((30, 550), 34),\n",
       " ((30, 567), 35),\n",
       " ((30, 586), 36),\n",
       " ((30, 604), 37),\n",
       " ((30, 622), 38),\n",
       " ((30, 640), 39),\n",
       " ((815, 38), 40),\n",
       " ((815, 55), 41),\n",
       " ((815, 74), 42),\n",
       " ((815, 92), 43),\n",
       " ((815, 110), 44),\n",
       " ((815, 128), 45),\n",
       " ((815, 146), 46),\n",
       " ((815, 164), 47),\n",
       " ((815, 182), 48),\n",
       " ((815, 199), 49),\n",
       " ((815, 218), 50),\n",
       " ((815, 236), 51),\n",
       " ((815, 254), 52),\n",
       " ((815, 272), 53),\n",
       " ((815, 290), 54),\n",
       " ((815, 308), 55),\n",
       " ((815, 370), 56),\n",
       " ((815, 388), 57),\n",
       " ((815, 406), 58),\n",
       " ((815, 424), 59),\n",
       " ((815, 442), 60),\n",
       " ((815, 460), 61),\n",
       " ((815, 478), 62),\n",
       " ((815, 496), 'W01'),\n",
       " ((815, 514), 'W02'),\n",
       " ((815, 532), 'W03'),\n",
       " ((815, 550), 'W04'),\n",
       " ((815, 567), 'W05'),\n",
       " ((815, 586), 'W06'),\n",
       " ((815, 604), 'W07'),\n",
       " ((815, 622), 'W08'),\n",
       " ((815, 640), 'W09'),\n",
       " ((155, 47), 'W10'),\n",
       " ((155, 83), 'W11'),\n",
       " ((155, 119), 'W12'),\n",
       " ((155, 155), 'W13'),\n",
       " ((155, 191), 'W14'),\n",
       " ((155, 227), 'W15'),\n",
       " ((155, 263), 'W16'),\n",
       " ((155, 299), 'X01'),\n",
       " ((155, 379), 'X02'),\n",
       " ((155, 415), 'X03'),\n",
       " ((155, 451), 'X04'),\n",
       " ((155, 487), 'X05'),\n",
       " ((155, 523), 'X06'),\n",
       " ((155, 559), 'X07'),\n",
       " ((155, 595), 'X08'),\n",
       " ((155, 631), 'X09'),\n",
       " ((735, 47), 'X10'),\n",
       " ((735, 83), 'X11'),\n",
       " ((735, 119), 'X12'),\n",
       " ((735, 155), 'X13'),\n",
       " ((735, 191), 'X14'),\n",
       " ((735, 227), 'X15'),\n",
       " ((735, 263), 'X16'),\n",
       " ((735, 299), 'Y01'),\n",
       " ((735, 379), 'Y02'),\n",
       " ((735, 415), 'Y03'),\n",
       " ((735, 451), 'Y04'),\n",
       " ((735, 487), 'Y05'),\n",
       " ((735, 523), 'Y06'),\n",
       " ((735, 559), 'Y07'),\n",
       " ((735, 595), 'Y08'),\n",
       " ((735, 631), 'Y09'),\n",
       " ((232, 65), 'Y10'),\n",
       " ((232, 137), 'Y11'),\n",
       " ((232, 209), 'Y12'),\n",
       " ((232, 281), 'Y13'),\n",
       " ((232, 397), 'Y14'),\n",
       " ((232, 469), 'Y15'),\n",
       " ((232, 541), 'Y16'),\n",
       " ((232, 613), 'Z01'),\n",
       " ((668, 65), 'Z02'),\n",
       " ((668, 137), 'Z03'),\n",
       " ((668, 209), 'Z04'),\n",
       " ((668, 281), 'Z05'),\n",
       " ((668, 397), 'Z06'),\n",
       " ((668, 469), 'Z07'),\n",
       " ((668, 541), 'Z08'),\n",
       " ((668, 613), 'Z09'),\n",
       " ((298, 100), 'Z10'),\n",
       " ((298, 244), 'Z11'),\n",
       " ((298, 432), 'Z12'),\n",
       " ((298, 576), 'Z13'),\n",
       " ((601, 100), 'Z14'),\n",
       " ((601, 244), 'Z15'),\n",
       " ((601, 432), 'Z16'),\n",
       " ((601, 576), 'W11a'),\n",
       " ((358, 172), 'W11b'),\n",
       " ((358, 504), 'W16a'),\n",
       " ((540, 172), 'W16b'),\n",
       " ((540, 504), 'Y11a'),\n",
       " ((420, 457), 'Y11b'),\n",
       " ((435, 219), 'Z16a'),\n",
       " ((435, 339), 'Z16b')]"
      ]
     },
     "execution_count": 69,
     "metadata": {},
     "output_type": "execute_result"
    }
   ],
   "source": [
    "slotdata"
   ]
  },
  {
   "cell_type": "code",
   "execution_count": null,
   "metadata": {
    "collapsed": true
   },
   "outputs": [],
   "source": [
    "need to fix slotdata, right now looks like a list of tuples of tuples?"
   ]
  },
  {
   "cell_type": "code",
   "execution_count": null,
   "metadata": {
    "collapsed": true
   },
   "outputs": [],
   "source": []
  },
  {
   "cell_type": "code",
   "execution_count": null,
   "metadata": {
    "collapsed": true
   },
   "outputs": [],
   "source": []
  },
  {
   "cell_type": "code",
   "execution_count": null,
   "metadata": {
    "collapsed": true
   },
   "outputs": [],
   "source": []
  }
 ],
 "metadata": {
  "kernelspec": {
   "display_name": "Python [conda root]",
   "language": "python",
   "name": "conda-root-py"
  },
  "language_info": {
   "codemirror_mode": {
    "name": "ipython",
    "version": 2
   },
   "file_extension": ".py",
   "mimetype": "text/x-python",
   "name": "python",
   "nbconvert_exporter": "python",
   "pygments_lexer": "ipython2",
   "version": "2.7.13"
  }
 },
 "nbformat": 4,
 "nbformat_minor": 2
}
